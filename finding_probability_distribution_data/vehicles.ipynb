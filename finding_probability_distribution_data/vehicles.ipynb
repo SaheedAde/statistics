{
 "cells": [
  {
   "cell_type": "code",
   "execution_count": 37,
   "metadata": {},
   "outputs": [],
   "source": [
    "# Tutorial: https://towardsdatascience.com/identify-your-datas-distribution-d76062fc0802"
   ]
  },
  {
   "cell_type": "code",
   "execution_count": 38,
   "metadata": {},
   "outputs": [],
   "source": [
    "import re\n",
    "import pandas as pd\n",
    "import numpy as np\n",
    "from scipy import stats\n",
    "from sklearn.preprocessing import StandardScaler\n",
    "import math\n",
    "import matplotlib.pyplot as plt\n",
    "import warnings\n",
    "import statsmodels.api as sm \n",
    "import seaborn as sns\n",
    "import pylab as py \n",
    "warnings.filterwarnings('ignore')\n",
    "%matplotlib inline"
   ]
  },
  {
   "cell_type": "code",
   "execution_count": 39,
   "metadata": {},
   "outputs": [],
   "source": [
    "# data source https://www.kaggle.com/austinreese/craigslist-carstrucks-data\n",
    "df = pd.read_csv('vehicles.csv')"
   ]
  },
  {
   "cell_type": "code",
   "execution_count": 40,
   "metadata": {},
   "outputs": [
    {
     "data": {
      "text/html": [
       "<div>\n",
       "<style scoped>\n",
       "    .dataframe tbody tr th:only-of-type {\n",
       "        vertical-align: middle;\n",
       "    }\n",
       "\n",
       "    .dataframe tbody tr th {\n",
       "        vertical-align: top;\n",
       "    }\n",
       "\n",
       "    .dataframe thead th {\n",
       "        text-align: right;\n",
       "    }\n",
       "</style>\n",
       "<table border=\"1\" class=\"dataframe\">\n",
       "  <thead>\n",
       "    <tr style=\"text-align: right;\">\n",
       "      <th></th>\n",
       "      <th>id</th>\n",
       "      <th>url</th>\n",
       "      <th>region</th>\n",
       "      <th>region_url</th>\n",
       "      <th>price</th>\n",
       "      <th>year</th>\n",
       "      <th>manufacturer</th>\n",
       "      <th>model</th>\n",
       "      <th>condition</th>\n",
       "      <th>cylinders</th>\n",
       "      <th>...</th>\n",
       "      <th>size</th>\n",
       "      <th>type</th>\n",
       "      <th>paint_color</th>\n",
       "      <th>image_url</th>\n",
       "      <th>description</th>\n",
       "      <th>county</th>\n",
       "      <th>state</th>\n",
       "      <th>lat</th>\n",
       "      <th>long</th>\n",
       "      <th>posting_date</th>\n",
       "    </tr>\n",
       "  </thead>\n",
       "  <tbody>\n",
       "    <tr>\n",
       "      <th>0</th>\n",
       "      <td>7222695916</td>\n",
       "      <td>https://prescott.craigslist.org/cto/d/prescott...</td>\n",
       "      <td>prescott</td>\n",
       "      <td>https://prescott.craigslist.org</td>\n",
       "      <td>6000</td>\n",
       "      <td>NaN</td>\n",
       "      <td>NaN</td>\n",
       "      <td>NaN</td>\n",
       "      <td>NaN</td>\n",
       "      <td>NaN</td>\n",
       "      <td>...</td>\n",
       "      <td>NaN</td>\n",
       "      <td>NaN</td>\n",
       "      <td>NaN</td>\n",
       "      <td>NaN</td>\n",
       "      <td>NaN</td>\n",
       "      <td>NaN</td>\n",
       "      <td>az</td>\n",
       "      <td>NaN</td>\n",
       "      <td>NaN</td>\n",
       "      <td>NaN</td>\n",
       "    </tr>\n",
       "    <tr>\n",
       "      <th>1</th>\n",
       "      <td>7218891961</td>\n",
       "      <td>https://fayar.craigslist.org/ctd/d/bentonville...</td>\n",
       "      <td>fayetteville</td>\n",
       "      <td>https://fayar.craigslist.org</td>\n",
       "      <td>11900</td>\n",
       "      <td>NaN</td>\n",
       "      <td>NaN</td>\n",
       "      <td>NaN</td>\n",
       "      <td>NaN</td>\n",
       "      <td>NaN</td>\n",
       "      <td>...</td>\n",
       "      <td>NaN</td>\n",
       "      <td>NaN</td>\n",
       "      <td>NaN</td>\n",
       "      <td>NaN</td>\n",
       "      <td>NaN</td>\n",
       "      <td>NaN</td>\n",
       "      <td>ar</td>\n",
       "      <td>NaN</td>\n",
       "      <td>NaN</td>\n",
       "      <td>NaN</td>\n",
       "    </tr>\n",
       "    <tr>\n",
       "      <th>2</th>\n",
       "      <td>7221797935</td>\n",
       "      <td>https://keys.craigslist.org/cto/d/summerland-k...</td>\n",
       "      <td>florida keys</td>\n",
       "      <td>https://keys.craigslist.org</td>\n",
       "      <td>21000</td>\n",
       "      <td>NaN</td>\n",
       "      <td>NaN</td>\n",
       "      <td>NaN</td>\n",
       "      <td>NaN</td>\n",
       "      <td>NaN</td>\n",
       "      <td>...</td>\n",
       "      <td>NaN</td>\n",
       "      <td>NaN</td>\n",
       "      <td>NaN</td>\n",
       "      <td>NaN</td>\n",
       "      <td>NaN</td>\n",
       "      <td>NaN</td>\n",
       "      <td>fl</td>\n",
       "      <td>NaN</td>\n",
       "      <td>NaN</td>\n",
       "      <td>NaN</td>\n",
       "    </tr>\n",
       "    <tr>\n",
       "      <th>3</th>\n",
       "      <td>7222270760</td>\n",
       "      <td>https://worcester.craigslist.org/cto/d/west-br...</td>\n",
       "      <td>worcester / central MA</td>\n",
       "      <td>https://worcester.craigslist.org</td>\n",
       "      <td>1500</td>\n",
       "      <td>NaN</td>\n",
       "      <td>NaN</td>\n",
       "      <td>NaN</td>\n",
       "      <td>NaN</td>\n",
       "      <td>NaN</td>\n",
       "      <td>...</td>\n",
       "      <td>NaN</td>\n",
       "      <td>NaN</td>\n",
       "      <td>NaN</td>\n",
       "      <td>NaN</td>\n",
       "      <td>NaN</td>\n",
       "      <td>NaN</td>\n",
       "      <td>ma</td>\n",
       "      <td>NaN</td>\n",
       "      <td>NaN</td>\n",
       "      <td>NaN</td>\n",
       "    </tr>\n",
       "    <tr>\n",
       "      <th>4</th>\n",
       "      <td>7210384030</td>\n",
       "      <td>https://greensboro.craigslist.org/cto/d/trinit...</td>\n",
       "      <td>greensboro</td>\n",
       "      <td>https://greensboro.craigslist.org</td>\n",
       "      <td>4900</td>\n",
       "      <td>NaN</td>\n",
       "      <td>NaN</td>\n",
       "      <td>NaN</td>\n",
       "      <td>NaN</td>\n",
       "      <td>NaN</td>\n",
       "      <td>...</td>\n",
       "      <td>NaN</td>\n",
       "      <td>NaN</td>\n",
       "      <td>NaN</td>\n",
       "      <td>NaN</td>\n",
       "      <td>NaN</td>\n",
       "      <td>NaN</td>\n",
       "      <td>nc</td>\n",
       "      <td>NaN</td>\n",
       "      <td>NaN</td>\n",
       "      <td>NaN</td>\n",
       "    </tr>\n",
       "  </tbody>\n",
       "</table>\n",
       "<p>5 rows × 26 columns</p>\n",
       "</div>"
      ],
      "text/plain": [
       "           id                                                url  \\\n",
       "0  7222695916  https://prescott.craigslist.org/cto/d/prescott...   \n",
       "1  7218891961  https://fayar.craigslist.org/ctd/d/bentonville...   \n",
       "2  7221797935  https://keys.craigslist.org/cto/d/summerland-k...   \n",
       "3  7222270760  https://worcester.craigslist.org/cto/d/west-br...   \n",
       "4  7210384030  https://greensboro.craigslist.org/cto/d/trinit...   \n",
       "\n",
       "                   region                         region_url  price  year  \\\n",
       "0                prescott    https://prescott.craigslist.org   6000   NaN   \n",
       "1            fayetteville       https://fayar.craigslist.org  11900   NaN   \n",
       "2            florida keys        https://keys.craigslist.org  21000   NaN   \n",
       "3  worcester / central MA   https://worcester.craigslist.org   1500   NaN   \n",
       "4              greensboro  https://greensboro.craigslist.org   4900   NaN   \n",
       "\n",
       "  manufacturer model condition cylinders  ... size  type paint_color  \\\n",
       "0          NaN   NaN       NaN       NaN  ...  NaN   NaN         NaN   \n",
       "1          NaN   NaN       NaN       NaN  ...  NaN   NaN         NaN   \n",
       "2          NaN   NaN       NaN       NaN  ...  NaN   NaN         NaN   \n",
       "3          NaN   NaN       NaN       NaN  ...  NaN   NaN         NaN   \n",
       "4          NaN   NaN       NaN       NaN  ...  NaN   NaN         NaN   \n",
       "\n",
       "  image_url description county state lat long posting_date  \n",
       "0       NaN         NaN    NaN    az NaN  NaN          NaN  \n",
       "1       NaN         NaN    NaN    ar NaN  NaN          NaN  \n",
       "2       NaN         NaN    NaN    fl NaN  NaN          NaN  \n",
       "3       NaN         NaN    NaN    ma NaN  NaN          NaN  \n",
       "4       NaN         NaN    NaN    nc NaN  NaN          NaN  \n",
       "\n",
       "[5 rows x 26 columns]"
      ]
     },
     "execution_count": 40,
     "metadata": {},
     "output_type": "execute_result"
    }
   ],
   "source": [
    "df.head()"
   ]
  },
  {
   "cell_type": "code",
   "execution_count": 41,
   "metadata": {},
   "outputs": [
    {
     "data": {
      "text/plain": [
       "(426880, 26)"
      ]
     },
     "execution_count": 41,
     "metadata": {},
     "output_type": "execute_result"
    }
   ],
   "source": [
    "df.shape"
   ]
  },
  {
   "cell_type": "code",
   "execution_count": 42,
   "metadata": {},
   "outputs": [
    {
     "data": {
      "text/plain": [
       "id                int64\n",
       "url              object\n",
       "region           object\n",
       "region_url       object\n",
       "price             int64\n",
       "year            float64\n",
       "manufacturer     object\n",
       "model            object\n",
       "condition        object\n",
       "cylinders        object\n",
       "fuel             object\n",
       "odometer        float64\n",
       "title_status     object\n",
       "transmission     object\n",
       "VIN              object\n",
       "drive            object\n",
       "size             object\n",
       "type             object\n",
       "paint_color      object\n",
       "image_url        object\n",
       "description      object\n",
       "county          float64\n",
       "state            object\n",
       "lat             float64\n",
       "long            float64\n",
       "posting_date     object\n",
       "dtype: object"
      ]
     },
     "execution_count": 42,
     "metadata": {},
     "output_type": "execute_result"
    }
   ],
   "source": [
    "df.dtypes"
   ]
  },
  {
   "cell_type": "code",
   "execution_count": 43,
   "metadata": {},
   "outputs": [
    {
     "data": {
      "text/plain": [
       "Index(['id', 'url', 'region', 'region_url', 'price', 'year', 'manufacturer',\n",
       "       'model', 'condition', 'cylinders', 'fuel', 'odometer', 'title_status',\n",
       "       'transmission', 'VIN', 'drive', 'size', 'type', 'paint_color',\n",
       "       'image_url', 'description', 'county', 'state', 'lat', 'long',\n",
       "       'posting_date'],\n",
       "      dtype='object')"
      ]
     },
     "execution_count": 43,
     "metadata": {},
     "output_type": "execute_result"
    }
   ],
   "source": [
    "df.columns"
   ]
  },
  {
   "cell_type": "code",
   "execution_count": 44,
   "metadata": {},
   "outputs": [],
   "source": [
    "# To estimate the distribution of price and odometer, so we select useful columns\n",
    "columns = ['id','price','year','manufacturer','odometer']\n",
    "df = df[columns]"
   ]
  },
  {
   "cell_type": "code",
   "execution_count": 45,
   "metadata": {},
   "outputs": [],
   "source": [
    "# cast year column to integer from float\n",
    "df['year'] = df['year'].apply(lambda x: str(int(x)) if x > 0   else x)"
   ]
  },
  {
   "cell_type": "code",
   "execution_count": 46,
   "metadata": {},
   "outputs": [
    {
     "data": {
      "text/html": [
       "<div>\n",
       "<style scoped>\n",
       "    .dataframe tbody tr th:only-of-type {\n",
       "        vertical-align: middle;\n",
       "    }\n",
       "\n",
       "    .dataframe tbody tr th {\n",
       "        vertical-align: top;\n",
       "    }\n",
       "\n",
       "    .dataframe thead th {\n",
       "        text-align: right;\n",
       "    }\n",
       "</style>\n",
       "<table border=\"1\" class=\"dataframe\">\n",
       "  <thead>\n",
       "    <tr style=\"text-align: right;\">\n",
       "      <th></th>\n",
       "      <th>id</th>\n",
       "      <th>price</th>\n",
       "      <th>year</th>\n",
       "      <th>manufacturer</th>\n",
       "      <th>odometer</th>\n",
       "    </tr>\n",
       "  </thead>\n",
       "  <tbody>\n",
       "    <tr>\n",
       "      <th>0</th>\n",
       "      <td>7222695916</td>\n",
       "      <td>6000</td>\n",
       "      <td>NaN</td>\n",
       "      <td>NaN</td>\n",
       "      <td>NaN</td>\n",
       "    </tr>\n",
       "    <tr>\n",
       "      <th>1</th>\n",
       "      <td>7218891961</td>\n",
       "      <td>11900</td>\n",
       "      <td>NaN</td>\n",
       "      <td>NaN</td>\n",
       "      <td>NaN</td>\n",
       "    </tr>\n",
       "    <tr>\n",
       "      <th>2</th>\n",
       "      <td>7221797935</td>\n",
       "      <td>21000</td>\n",
       "      <td>NaN</td>\n",
       "      <td>NaN</td>\n",
       "      <td>NaN</td>\n",
       "    </tr>\n",
       "    <tr>\n",
       "      <th>3</th>\n",
       "      <td>7222270760</td>\n",
       "      <td>1500</td>\n",
       "      <td>NaN</td>\n",
       "      <td>NaN</td>\n",
       "      <td>NaN</td>\n",
       "    </tr>\n",
       "    <tr>\n",
       "      <th>4</th>\n",
       "      <td>7210384030</td>\n",
       "      <td>4900</td>\n",
       "      <td>NaN</td>\n",
       "      <td>NaN</td>\n",
       "      <td>NaN</td>\n",
       "    </tr>\n",
       "  </tbody>\n",
       "</table>\n",
       "</div>"
      ],
      "text/plain": [
       "           id  price year manufacturer  odometer\n",
       "0  7222695916   6000  NaN          NaN       NaN\n",
       "1  7218891961  11900  NaN          NaN       NaN\n",
       "2  7221797935  21000  NaN          NaN       NaN\n",
       "3  7222270760   1500  NaN          NaN       NaN\n",
       "4  7210384030   4900  NaN          NaN       NaN"
      ]
     },
     "execution_count": 46,
     "metadata": {},
     "output_type": "execute_result"
    }
   ],
   "source": [
    "df.head()"
   ]
  },
  {
   "cell_type": "code",
   "execution_count": 47,
   "metadata": {},
   "outputs": [
    {
     "data": {
      "text/html": [
       "<div>\n",
       "<style scoped>\n",
       "    .dataframe tbody tr th:only-of-type {\n",
       "        vertical-align: middle;\n",
       "    }\n",
       "\n",
       "    .dataframe tbody tr th {\n",
       "        vertical-align: top;\n",
       "    }\n",
       "\n",
       "    .dataframe thead th {\n",
       "        text-align: right;\n",
       "    }\n",
       "</style>\n",
       "<table border=\"1\" class=\"dataframe\">\n",
       "  <thead>\n",
       "    <tr style=\"text-align: right;\">\n",
       "      <th></th>\n",
       "      <th>id</th>\n",
       "      <th>price</th>\n",
       "      <th>odometer</th>\n",
       "    </tr>\n",
       "  </thead>\n",
       "  <tbody>\n",
       "    <tr>\n",
       "      <th>count</th>\n",
       "      <td>4.268800e+05</td>\n",
       "      <td>4.268800e+05</td>\n",
       "      <td>4.224800e+05</td>\n",
       "    </tr>\n",
       "    <tr>\n",
       "      <th>mean</th>\n",
       "      <td>7.311487e+09</td>\n",
       "      <td>7.519903e+04</td>\n",
       "      <td>9.804333e+04</td>\n",
       "    </tr>\n",
       "    <tr>\n",
       "      <th>std</th>\n",
       "      <td>4.473170e+06</td>\n",
       "      <td>1.218228e+07</td>\n",
       "      <td>2.138815e+05</td>\n",
       "    </tr>\n",
       "    <tr>\n",
       "      <th>min</th>\n",
       "      <td>7.207408e+09</td>\n",
       "      <td>0.000000e+00</td>\n",
       "      <td>0.000000e+00</td>\n",
       "    </tr>\n",
       "    <tr>\n",
       "      <th>25%</th>\n",
       "      <td>7.308143e+09</td>\n",
       "      <td>5.900000e+03</td>\n",
       "      <td>3.770400e+04</td>\n",
       "    </tr>\n",
       "    <tr>\n",
       "      <th>50%</th>\n",
       "      <td>7.312621e+09</td>\n",
       "      <td>1.395000e+04</td>\n",
       "      <td>8.554800e+04</td>\n",
       "    </tr>\n",
       "    <tr>\n",
       "      <th>75%</th>\n",
       "      <td>7.315254e+09</td>\n",
       "      <td>2.648575e+04</td>\n",
       "      <td>1.335425e+05</td>\n",
       "    </tr>\n",
       "    <tr>\n",
       "      <th>max</th>\n",
       "      <td>7.317101e+09</td>\n",
       "      <td>3.736929e+09</td>\n",
       "      <td>1.000000e+07</td>\n",
       "    </tr>\n",
       "  </tbody>\n",
       "</table>\n",
       "</div>"
      ],
      "text/plain": [
       "                 id         price      odometer\n",
       "count  4.268800e+05  4.268800e+05  4.224800e+05\n",
       "mean   7.311487e+09  7.519903e+04  9.804333e+04\n",
       "std    4.473170e+06  1.218228e+07  2.138815e+05\n",
       "min    7.207408e+09  0.000000e+00  0.000000e+00\n",
       "25%    7.308143e+09  5.900000e+03  3.770400e+04\n",
       "50%    7.312621e+09  1.395000e+04  8.554800e+04\n",
       "75%    7.315254e+09  2.648575e+04  1.335425e+05\n",
       "max    7.317101e+09  3.736929e+09  1.000000e+07"
      ]
     },
     "execution_count": 47,
     "metadata": {},
     "output_type": "execute_result"
    }
   ],
   "source": [
    "df.describe()"
   ]
  },
  {
   "cell_type": "code",
   "execution_count": 48,
   "metadata": {},
   "outputs": [
    {
     "data": {
      "text/plain": [
       "id                  0\n",
       "price               0\n",
       "year             1205\n",
       "manufacturer    17646\n",
       "odometer         4400\n",
       "dtype: int64"
      ]
     },
     "execution_count": 48,
     "metadata": {},
     "output_type": "execute_result"
    }
   ],
   "source": [
    "# find the total of missing numbers in each cols\n",
    "# e.g price is not missing, 4400 odometer values are missing\n",
    "df.isna().sum()"
   ]
  },
  {
   "cell_type": "code",
   "execution_count": 49,
   "metadata": {},
   "outputs": [
    {
     "data": {
      "text/plain": [
       "<AxesSubplot:>"
      ]
     },
     "execution_count": 49,
     "metadata": {},
     "output_type": "execute_result"
    },
    {
     "data": {
      "image/png": "[encoded data removed]",
      "text/plain": [
       "<Figure size 432x288 with 1 Axes>"
      ]
     },
     "metadata": {
      "needs_background": "light"
     },
     "output_type": "display_data"
    }
   ],
   "source": [
    "df['price'].hist()"
   ]
  },
  {
   "cell_type": "code",
   "execution_count": 50,
   "metadata": {},
   "outputs": [],
   "source": [
    "CONF_LEV = 0.99 # confidence level\n",
    "ALPHA = 1 - CONF_LEV # level of significance\n",
    "\n",
    "def scale_data(column):\n",
    "    \"\"\"\n",
    "    Take the <CONF_LEVEL * 100> % of the data and scale.\n",
    "    Returns y, y_standardised and size of y\n",
    "    \"\"\"\n",
    "    scaler = StandardScaler()\n",
    "    y = df[column][df[column].notnull()].to_list() # drop the null values\n",
    "    y.sort()\n",
    "\n",
    "    len_y = len(y)\n",
    "\n",
    "    # select the middle <CONF_LEVEL * 100> % of the data. assume normal distro.\n",
    "    # assume a bell curve, select 99% of the middle data for 0.99 confidence level\n",
    "    y = y[int(ALPHA * len_y):int(CONF_LEV * len_y)]\n",
    "\n",
    "    len_y = len(y)\n",
    "    yy=([[x] for x in y])\n",
    "\n",
    "    # scaler.fit(yy) # Compute the mean and std to be used for later scaling.\n",
    "    # y_std = scaler.transform(yy) # Perform standardization by centering and scaling.\n",
    "    # OR\n",
    "    y_std = scaler.fit_transform(yy) # Perform the two steps above as one.\n",
    "\n",
    "    y_std = y_std.flatten()\n",
    "\n",
    "    return y, y_std, len_y\n"
   ]
  },
  {
   "cell_type": "code",
   "execution_count": 64,
   "metadata": {},
   "outputs": [],
   "source": [
    "NUMBER_OF_BINS = 11\n",
    "\n",
    "def fit_distribution(standardised_data):\n",
    "    y_std, size = standardised_data, len(standardised_data)\n",
    "    # Set up list of candidate distributions to use\n",
    "    # See https://docs.scipy.org/doc/scipy/reference/stats.html for more\n",
    "\n",
    "    dist_names = [\n",
    "        'weibull_min','norm','weibull_max','beta', 'invgauss','uniform',\n",
    "        'gamma','expon', 'lognorm','pearson3','triang'\n",
    "    ]\n",
    "\n",
    "    # continuos_distro = [\n",
    "    #     d for d in dir(stats) if isinstance(getattr(stats, d), stats.rv_continuous)\n",
    "    # ] # all available continous distributions in scipy\n",
    "\n",
    "    # discrete_distro = [\n",
    "    #     d for d in dir(stats) if isinstance(getattr(stats, d), stats.rv_discrete)\n",
    "    # ] # all available discrete distributions in scipy\n",
    "\n",
    "    chi_square_statistics = []\n",
    "    # 11 bins\n",
    "    percentile_bins = np.linspace(0, 100, NUMBER_OF_BINS)\n",
    "    percentile_cutoffs = np.percentile(y_std, percentile_bins) # categorise y_std into 11 bins\n",
    "    observed_frequency, bins = (np.histogram(y_std, bins=percentile_cutoffs))\n",
    "    cum_observed_frequency = np.cumsum(observed_frequency)\n",
    "\n",
    "    # Loop through candidate distributions\n",
    "    for distribution in dist_names:\n",
    "        # Set up distribution and get fitted distribution parameters\n",
    "        dist = getattr(stats, distribution)\n",
    "        param = dist.fit(y_std)\n",
    "        print(\"{}\\n{}\\n\".format(distribution, param))\n",
    "\n",
    "        # Get expected counts in percentile bins\n",
    "        # cdf of fitted distribution across bins\n",
    "        cdf_fitted = dist.cdf(percentile_cutoffs, *param)\n",
    "        expected_frequency = []\n",
    "        for bin in range(len(percentile_bins)-1):\n",
    "            expected_cdf_area = cdf_fitted[bin+1] - cdf_fitted[bin]\n",
    "            expected_frequency.append(expected_cdf_area)\n",
    "\n",
    "        # Chi-square Statistics\n",
    "        # A chi-square (χ2) statistic is a test that measures how expectations\n",
    "        # compare to actual observed data (or model results). The data used in\n",
    "        # calculating a chi-square statistic must be random, raw,\n",
    "        # mutually exclusive, drawn from independent variables, and drawn from a\n",
    "        # large enough sample.\n",
    "        expected_frequency = np.array(expected_frequency) * size\n",
    "        cum_expected_frequency = np.cumsum(expected_frequency)\n",
    "        ss = round(sum (((cum_expected_frequency - cum_observed_frequency) ** 2) / cum_observed_frequency),0)\n",
    "        chi_square_statistics.append(ss)\n",
    "\n",
    "\n",
    "    # Sort by minimum ch-square statistics\n",
    "    results = pd.DataFrame()\n",
    "    results['Distribution'] = dist_names\n",
    "    results['chi_square'] = chi_square_statistics\n",
    "    results.sort_values(['chi_square'], inplace=True)\n",
    "\n",
    "\n",
    "    print ('\\nDistributions listed by Betterment of fit:')\n",
    "    print ('............................................')\n",
    "    print (results)"
   ]
  },
  {
   "cell_type": "code",
   "execution_count": 65,
   "metadata": {},
   "outputs": [
    {
     "name": "stdout",
     "output_type": "stream",
     "text": [
      "weibull_min\n",
      "(0.3562420727425598, -1.2309655655757914, 1.0454260046806056)\n",
      "\n",
      "norm\n",
      "(7.228685273555399e-17, 1.0000000000000002)\n",
      "\n",
      "weibull_max\n",
      "(59533308.25920732, 44675160.12848368, 44675160.58339321)\n",
      "\n",
      "beta\n",
      "(0.2388065831255009, 1.1637717506536793, -1.2309655655757914, 4.875420610758933)\n",
      "\n",
      "invgauss\n",
      "(0.4378971820264218, -1.7139769095439341, 3.914109314358006)\n",
      "\n",
      "uniform\n",
      "(-1.2309655655757912, 4.8702757683572795)\n",
      "\n",
      "gamma\n",
      "(0.28615908876435625, -1.2309655655757914, 2.4666839140894092)\n",
      "\n",
      "expon\n",
      "(-1.2309655655757912, 1.2309655655757912)\n",
      "\n",
      "lognorm\n",
      "(0.650400860729848, -1.6419230132341776, 1.3486149895274293)\n",
      "\n",
      "pearson3\n",
      "(3.0863364170339063, -1.0194012239829828e-16, 1.899586926575652)\n",
      "\n",
      "triang\n",
      "(1.0669949724732894e-05, -1.2310179519947297, 4.9022556554729775)\n",
      "\n",
      "\n",
      "Distributions listed by Betterment of fit:\n",
      "............................................\n",
      "   Distribution  chi_square\n",
      "7         expon     22953.0\n",
      "4      invgauss     33710.0\n",
      "8       lognorm     36794.0\n",
      "2   weibull_max     88816.0\n",
      "10       triang    111466.0\n",
      "1          norm    224541.0\n",
      "9      pearson3    336529.0\n",
      "5       uniform    534674.0\n",
      "0   weibull_min    538004.0\n",
      "3          beta    879532.0\n",
      "6         gamma   1191339.0\n"
     ]
    }
   ],
   "source": [
    "y, y_std, size = scale_data('price')\n",
    "# select the minimum chisquare values\n",
    "fit_distribution(y_std)"
   ]
  },
  {
   "cell_type": "code",
   "execution_count": 66,
   "metadata": {},
   "outputs": [
    {
     "data": {
      "text/plain": [
       "Text(0, 0.5, 'Frequency')"
      ]
     },
     "execution_count": 66,
     "metadata": {},
     "output_type": "execute_result"
    },
    {
     "data": {
      "image/png": "[encoded data removed]",
      "text/plain": [
       "<Figure size 432x288 with 1 Axes>"
      ]
     },
     "metadata": {
      "needs_background": "light"
     },
     "output_type": "display_data"
    }
   ],
   "source": [
    "plt.hist(y)\n",
    "plt.xlabel('Price')\n",
    "plt.ylabel('Frequency')"
   ]
  },
  {
   "cell_type": "code",
   "execution_count": 68,
   "metadata": {},
   "outputs": [
    {
     "data": {
      "image/png": "[encoded data removed]",
      "text/plain": [
       "<Figure size 648x360 with 3 Axes>"
      ]
     },
     "metadata": {
      "needs_background": "light"
     },
     "output_type": "display_data"
    }
   ],
   "source": [
    "fig, axes = plt.subplots(nrows=1, ncols=3, figsize=(9, 5))\n",
    "axes[0].hist(y)\n",
    "axes[0].set_xlabel('Price\\n\\nHistogram plot of Oberseved Data')\n",
    "axes[0].set_ylabel('Frequency')\n",
    "\n",
    "# expon.pdf(x, loc, scale) is identically equivalent to\n",
    "# expon.pdf(y) / scale with y = (x - loc) / scale\n",
    "# loc = location or shift. scale = scale. These values are printed in params\n",
    "# of 2 lines above\n",
    "expon_loc, expon_scale = (-1.2309655655757912, 1.2309655655757912)\n",
    "axes[1].plot(y, stats.expon.pdf(y_std, expon_loc, expon_scale))\n",
    "axes[1].set_xlabel('Price\\n\\nExponential Distribution')\n",
    "axes[1].set_ylabel('pdf')\n",
    "\n",
    "# invgauss.pdf(x, mu, loc, scale) is identically equivalent to\n",
    "# invgauss.pdf(y, mu) / scale with y = (x - loc) / scale.\n",
    "invg_mu, invg_loc, invg_scale = (0.4378971820264218, -1.7139769095439341, 3.914109314358006)\n",
    "axes[2].plot(y, stats.invgauss.pdf(y_std, invg_mu, invg_loc, invg_scale))\n",
    "axes[2].set_xlabel('Price\\n\\nInverse-Gaussian Distribution')\n",
    "axes[2].set_ylabel('pdf')\n",
    "fig.tight_layout()"
   ]
  },
  {
   "cell_type": "code",
   "execution_count": 72,
   "metadata": {},
   "outputs": [
    {
     "data": {
      "image/png": "[encoded data removed]",
      "text/plain": [
       "<Figure size 576x576 with 1 Axes>"
      ]
     },
     "metadata": {
      "needs_background": "light"
     },
     "output_type": "display_data"
    }
   ],
   "source": [
    "# QQ plots is a graphical method for comparing two probability distributions by\n",
    "# plotting their quantiles against each other.\n",
    "\n",
    "# Let’s analyse the QQ plot to choose between exponential or inverse gaussian distributions\n",
    "\n",
    "random_expon_data_points = stats.expon.rvs(expon_loc, expon_scale, size=2000)\n",
    "random_invgauss_data_points = stats.invgauss.rvs(invg_mu, invg_loc, invg_scale, size = 2000)\n",
    "f, ax = plt.subplots(figsize=(8,8))\n",
    "QQ_INTERVAL = [-2, 8] # y_std.min(), y_std.max() is contained in INTERVAL\n",
    "ax.plot(QQ_INTERVAL, QQ_INTERVAL, ls=\"--\", c=\".3\")\n",
    "\n",
    "NUM_BINS = 51\n",
    "percentile_bins = np.linspace(0, 100, NUM_BINS)\n",
    "percentile_cutoffs1 = np.percentile(y_std, percentile_bins)\n",
    "\n",
    "percentile_cutoffs_expon= np.percentile(random_expon_data_points, percentile_bins)\n",
    "percentile_cutoffs_invgauss = np.percentile(random_invgauss_data_points, percentile_bins)\n",
    "\n",
    "\n",
    "ax.scatter(\n",
    "    percentile_cutoffs1, percentile_cutoffs_invgauss, c = 'r',\n",
    "    label = 'Inverse-Gaussian Distribution', s = 40\n",
    ")\n",
    "ax.scatter(\n",
    "    percentile_cutoffs1, percentile_cutoffs_expon, c = 'b',\n",
    "    label = 'Exponential Distribution', s = 40\n",
    ")\n",
    "\n",
    "ax.set_xlabel('Theoretical cumulative distribution')\n",
    "ax.set_ylabel('Observed cumulative distribution')\n",
    "ax.legend()\n",
    "plt.show()\n",
    "\n",
    "# Both the distributions do fairly well. Exponential is slightly better than\n",
    "# Inverse Gaussian in approximating ‘Price’ Data."
   ]
  },
  {
   "cell_type": "markdown",
   "metadata": {},
   "source": [
    "## for odometer"
   ]
  },
  {
   "cell_type": "code",
   "execution_count": 73,
   "metadata": {},
   "outputs": [
    {
     "name": "stdout",
     "output_type": "stream",
     "text": [
      "weibull_min\n",
      "(0.9881590543515774, -1.5052557047139992, 1.2612236632997722)\n",
      "\n",
      "norm\n",
      "(8.786730479340225e-17, 1.0000000000000002)\n",
      "\n",
      "weibull_max\n",
      "(15.564797115081905, 12.703169931798694, 13.14897267304433)\n",
      "\n",
      "beta\n",
      "(1.099464491343034, 2.384685330116807, -1.5076405277154736, 4.71789097240473)\n",
      "\n",
      "invgauss\n",
      "(0.1604872640676844, -2.656019589795715, 16.549721731203284)\n",
      "\n",
      "uniform\n",
      "(-1.505255704713999, 4.654284245312688)\n",
      "\n",
      "gamma\n",
      "(2.1602464413814886, -1.6404216094967126, 0.7593684106630003)\n",
      "\n",
      "expon\n",
      "(-1.505255704713999, 1.505255704713999)\n",
      "\n",
      "lognorm\n",
      "(0.3712757831517502, -2.7593946384559125, 2.580036187780177)\n",
      "\n",
      "pearson3\n",
      "(1.3607565399956363, 4.854448532290203e-17, 1.1160970599835187)\n",
      "\n",
      "triang\n",
      "(3.571582770557333e-05, -1.5054220742218116, 4.658138989747099)\n",
      "\n",
      "\n",
      "Distributions listed by Betterment of fit:\n",
      "............................................\n",
      "   Distribution  chi_square\n",
      "3          beta      3200.0\n",
      "10       triang      3287.0\n",
      "6         gamma     13312.0\n",
      "9      pearson3     13313.0\n",
      "4      invgauss     24064.0\n",
      "8       lognorm     27977.0\n",
      "2   weibull_max     38845.0\n",
      "7         expon     81075.0\n",
      "1          norm     95687.0\n",
      "0   weibull_min    195802.0\n",
      "5       uniform    262725.0\n"
     ]
    }
   ],
   "source": [
    "y_odo, y_odo_std, size = scale_data('odometer')\n",
    "# select the minimum chisquare values\n",
    "fit_distribution(y_odo_std)"
   ]
  },
  {
   "cell_type": "code",
   "execution_count": 74,
   "metadata": {},
   "outputs": [
    {
     "data": {
      "text/plain": [
       "Text(0, 0.5, 'Frequency')"
      ]
     },
     "execution_count": 74,
     "metadata": {},
     "output_type": "execute_result"
    },
    {
     "data": {
      "image/png": "[encoded data removed]",
      "text/plain": [
       "<Figure size 432x288 with 1 Axes>"
      ]
     },
     "metadata": {
      "needs_background": "light"
     },
     "output_type": "display_data"
    }
   ],
   "source": [
    "plt.hist(y_odo)\n",
    "plt.xlabel('Odometer')\n",
    "plt.ylabel('Frequency')"
   ]
  },
  {
   "cell_type": "code",
   "execution_count": 77,
   "metadata": {},
   "outputs": [
    {
     "data": {
      "image/png": "[encoded data removed]",
      "text/plain": [
       "<Figure size 648x360 with 3 Axes>"
      ]
     },
     "metadata": {
      "needs_background": "light"
     },
     "output_type": "display_data"
    }
   ],
   "source": [
    "fig, axes = plt.subplots(nrows=1, ncols=3, figsize=(9, 5))\n",
    "axes[0].hist(y_odo)\n",
    "axes[0].set_xlabel('Odometer\\n\\nHistogram plot of Oberseved Data')\n",
    "axes[0].set_ylabel('Frequency')\n",
    "\n",
    "# beta.pdf(x, a, b, loc, scale) is identically equivalent to\n",
    "# beta.pdf(y, a, b) / scale with y = (x - loc) / scale.\n",
    "betaa, betab, betaloc, betascale = (1.099464491343034, 2.384685330116807, -1.5076405277154736, 4.71789097240473)\n",
    "axes[1].plot(y_odo, stats.beta.pdf(y_odo_std, betaa, betab, betaloc, betascale))\n",
    "axes[1].set_xlabel('Odometer\\n\\nBeta Distribution')\n",
    "axes[1].set_ylabel('pdf')\n",
    "\n",
    "# triang.pdf(x, c, loc, scale) is identically equivalent to\n",
    "# triang.pdf(y, c) / scale with y = (x - loc) / scale.\n",
    "triangc, triangloc, triangscale = (3.571582770557333e-05, -1.5054220742218116, 4.658138989747099)\n",
    "axes[2].plot(y_odo, stats.triang.pdf(y_odo_std, triangc, triangloc, triangscale))\n",
    "axes[2].set_xlabel('Odometer\\n\\nTriangular Distribution')\n",
    "axes[2].set_ylabel('pdf')\n",
    "fig.tight_layout()"
   ]
  },
  {
   "cell_type": "code",
   "execution_count": 78,
   "metadata": {},
   "outputs": [
    {
     "data": {
      "image/png": "[encoded data removed]",
      "text/plain": [
       "<Figure size 576x576 with 1 Axes>"
      ]
     },
     "metadata": {
      "needs_background": "light"
     },
     "output_type": "display_data"
    }
   ],
   "source": [
    "# QQ plots is a graphical method for comparing two probability distributions by\n",
    "# plotting their quantiles against each other.\n",
    "\n",
    "# Let’s analyse the QQ plot to choose between exponential or inverse gaussian distributions\n",
    "\n",
    "random_beta_data_points = stats.beta.rvs(betaa, betab, betaloc, betascale, size=1000)\n",
    "random_triang_data_points = stats.triang.rvs(triangc, triangloc, triangscale, size = 1000)\n",
    "f, ax = plt.subplots(figsize=(8,8))\n",
    "QQ_INTERVAL = [-2, 3] # y_odo_std.min(), y_odo_std.max() is contained in INTERVAL\n",
    "ax.plot(QQ_INTERVAL, QQ_INTERVAL, ls=\"--\", c=\".3\")\n",
    "\n",
    "NUM_BINS = 101\n",
    "percentile_bins = np.linspace(0, 100, NUM_BINS)\n",
    "percentile_cutoffs_odo = np.percentile(y_odo_std, percentile_bins)\n",
    "\n",
    "percentile_cutoffs_beta = np.percentile(random_beta_data_points, percentile_bins)\n",
    "percentile_cutoffs_triang = np.percentile(random_triang_data_points, percentile_bins)\n",
    "\n",
    "\n",
    "ax.scatter(\n",
    "    percentile_cutoffs_odo, percentile_cutoffs_beta, c = 'r',\n",
    "    label = 'Beta Distribution', s = 40\n",
    ")\n",
    "ax.scatter(\n",
    "    percentile_cutoffs_odo, percentile_cutoffs_triang, c = 'b',\n",
    "    label = 'Triangular Distribution', s = 40\n",
    ")\n",
    "\n",
    "ax.set_xlabel('Theoretical cumulative distribution')\n",
    "ax.set_ylabel('Observed cumulative distribution')\n",
    "ax.legend()\n",
    "plt.show()\n",
    "\n",
    "# Both the distributions do fairly well. Beta is slightly better than\n",
    "# Traingular in approximating ‘Odometer’ Data."
   ]
  },
  {
   "cell_type": "code",
   "execution_count": null,
   "metadata": {},
   "outputs": [],
   "source": []
  }
 ],
 "metadata": {
  "kernelspec": {
   "display_name": "Python 3",
   "language": "python",
   "name": "python3"
  },
  "language_info": {
   "codemirror_mode": {
    "name": "ipython",
    "version": 3
   },
   "file_extension": ".py",
   "mimetype": "text/x-python",
   "name": "python",
   "nbconvert_exporter": "python",
   "pygments_lexer": "ipython3",
   "version": "3.10.4"
  },
  "orig_nbformat": 4,
  "vscode": {
   "interpreter": {
    "hash": "e7370f93d1d0cde622a1f8e1c04877d8463912d04d973331ad4851f04de6915a"
   }
  }
 },
 "nbformat": 4,
 "nbformat_minor": 2
}
